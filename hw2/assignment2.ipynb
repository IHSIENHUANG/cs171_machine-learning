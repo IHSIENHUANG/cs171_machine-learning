{
 "cells": [
  {
   "cell_type": "code",
   "execution_count": 369,
   "metadata": {},
   "outputs": [],
   "source": [
    "import numpy as np\n",
    "import pandas as pd\n",
    "import os\n",
    "import seaborn as sns\n",
    "import matplotlib.pyplot as plt\n",
    "import decimal  \n",
    "import sys\n",
    "import scipy\n",
    "from sklearn.utils import shuffle\n"
   ]
  },
  {
   "cell_type": "code",
   "execution_count": 371,
   "metadata": {},
   "outputs": [
    {
     "name": "stdout",
     "output_type": "stream",
     "text": [
      "        0   1   2   3   4   5   6   7   8   9   10\n",
      "0  1000025   5   1   1   1   2   1   3   1   1   2\n",
      "1  1002945   5   4   4   5   7  10   3   2   1   2\n",
      "2  1015425   3   1   1   1   2   2   3   1   1   2\n",
      "3  1016277   6   8   8   1   3   4   3   7   1   2\n",
      "4  1017023   4   1   1   3   2   1   3   1   1   2\n",
      "5  1017122   8  10  10   8   7  10   9   7   1   4\n",
      "6  1018099   1   1   1   1   2  10   3   1   1   2\n",
      "7  1018561   2   1   2   1   2   1   3   1   1   2\n",
      "8  1033078   2   1   1   1   2   1   1   1   5   2\n",
      "9  1033078   4   2   1   1   2   1   2   1   1   2\n",
      "                 0           1           2           3           4   \\\n",
      "count  6.990000e+02  699.000000  699.000000  699.000000  699.000000   \n",
      "mean   1.071704e+06    4.417740    3.134478    3.207439    2.806867   \n",
      "std    6.170957e+05    2.815741    3.051459    2.971913    2.855379   \n",
      "min    6.163400e+04    1.000000    1.000000    1.000000    1.000000   \n",
      "25%    8.706885e+05    2.000000    1.000000    1.000000    1.000000   \n",
      "50%    1.171710e+06    4.000000    1.000000    1.000000    1.000000   \n",
      "75%    1.238298e+06    6.000000    5.000000    5.000000    4.000000   \n",
      "max    1.345435e+07   10.000000   10.000000   10.000000   10.000000   \n",
      "\n",
      "               5           7           8           9           10  \n",
      "count  699.000000  699.000000  699.000000  699.000000  699.000000  \n",
      "mean     3.216023    3.437768    2.866953    1.589413    2.689557  \n",
      "std      2.214300    2.438364    3.053634    1.715078    0.951273  \n",
      "min      1.000000    1.000000    1.000000    1.000000    2.000000  \n",
      "25%      2.000000    2.000000    1.000000    1.000000    2.000000  \n",
      "50%      2.000000    3.000000    1.000000    1.000000    2.000000  \n",
      "75%      4.000000    5.000000    4.000000    1.000000    4.000000  \n",
      "max     10.000000   10.000000   10.000000   10.000000    4.000000  \n",
      "round  0\n",
      "mean is  1071704.0987124464\n",
      "round  1\n",
      "mean is  4.417739628040057\n",
      "round  2\n",
      "mean is  3.13447782546495\n",
      "round  3\n",
      "mean is  3.207439198855508\n",
      "round  4\n",
      "mean is  2.8068669527896994\n",
      "round  5\n",
      "mean is  3.216022889842632\n",
      "round  6\n",
      "mean is  3.5446559297218156\n",
      "round  7\n",
      "mean is  3.4377682403433476\n",
      "round  8\n",
      "mean is  2.866952789699571\n",
      "round  9\n",
      "mean is  1.5894134477825466\n"
     ]
    }
   ],
   "source": [
    "df = pd.read_csv(\"input.csv\",header=None)\n",
    "#df = shuffle(df)\n",
    "print (df.head(10))\n",
    "# total 699 rows we use top 80 %  for train that means 0:560\n",
    "print (df.describe())\n",
    "total = 0 \n",
    "for i in range(0,10):\n",
    "    print (\"round \",i)\n",
    "    #print (\"computer mean:\",df[i].mean())\n",
    "    total = 0\n",
    "    non_question =0\n",
    "    for index,x in enumerate(df[i]):\n",
    "        if x != '?':\n",
    "            total+=int(x)\n",
    "            non_question+=1\n",
    "    print (\"mean is \",total/non_question)\n",
    "    df[i]=df[i].replace(\"?\",total/non_question)\n",
    "x_train  = df[:][:560]\n",
    "x_test = df[:][560:]\n",
    "del x_train[10]\n",
    "del x_train[0]\n",
    "del x_test[10]\n",
    "del x_test[0]\n",
    "\n",
    "#print (df[0:5][0:10])\n",
    "y_train = df[10][0:560]\n",
    "y_test = df[10][560:]\n"
   ]
  },
  {
   "cell_type": "code",
   "execution_count": 366,
   "metadata": {},
   "outputs": [],
   "source": [
    "def distance_LP(x,y,p):\n",
    "    #print(\"this function is for calculating distance_LP\")\n",
    "    distance=0\n",
    "    for val1,val2 in zip(x,y):\n",
    "        val1 = int(val1)\n",
    "        val2 = int(val2)\n",
    "        \n",
    "        #print (\"value 1,2 :\",val1,val2)\n",
    "        distance += math.pow(abs(val1-val2),p)\n",
    "        #distance = math.pow(distance,1/p)\n",
    "        #print (\"distance sum is \",distance)\n",
    "    return distance\n",
    "def knn_classifier(x_test,x_train,y_train,k,p):\n",
    "    y_pred =[]\n",
    "    for x in x_test.values:\n",
    "        #print (x[:])\n",
    "        \n",
    "        distance_record=[]\n",
    "        index =0\n",
    "        for y  in(x_train.values):\n",
    "            dist = distance_LP(x,y,p)\n",
    "            distance_record.append(int(dist))\n",
    "        index_sort =sorted(range(len(distance_record)), key=lambda k: distance_record[k])\n",
    "            #this will record the sorted list index for example, the 1th in position k \n",
    "        num = 0 \n",
    "        for i in range(k):\n",
    "            num += y_train[index_sort[i]]\n",
    "        if num >= 3*k:\n",
    "            y_pred.append(4)\n",
    "        else:\n",
    "            y_pred.append(2)\n",
    "\n",
    "    return y_pred\n",
    "\n",
    "            \n",
    "        \n",
    "            \n",
    "            \n",
    "        "
   ]
  },
  {
   "cell_type": "code",
   "execution_count": 367,
   "metadata": {},
   "outputs": [
    {
     "name": "stdout",
     "output_type": "stream",
     "text": [
      "this is main\n",
      "[2, 2, 2, 2, 2, 4, 2, 2, 4, 2, 2, 4, 2, 2, 4, 2, 2, 2, 2, 2, 2, 2, 4, 2, 2, 2, 4, 2, 2, 2, 2, 4, 2, 2, 2, 2, 2, 2, 2, 2, 2, 2, 2, 4, 2, 4, 2, 2, 2, 2, 2, 2, 4, 2, 2, 2, 2, 2, 2, 2, 2, 2, 2, 2, 2, 2, 4, 2, 2, 2, 2, 2, 2, 4, 2, 2, 4, 2, 2, 2, 2, 2, 2, 2, 2, 2, 2, 2, 4, 2, 2, 2, 2, 2, 2, 2, 2, 4, 4, 2, 2, 2, 2, 2, 2, 2, 2, 2, 4, 4, 2, 2, 2, 2, 2, 2, 2, 2, 2, 2, 4, 4, 2, 2, 2, 2, 2, 2, 2, 4, 2, 2, 2, 2, 2, 2, 4, 4, 4]\n",
      "accuray is %d / %d 124 139\n"
     ]
    }
   ],
   "source": [
    "def main():\n",
    "    print (\"this is main\")\n",
    "    x=[1,3,5]\n",
    "    y=[1,1,1]\n",
    "    #print(distance_LP(x,y,2))\n",
    "    #print (x_test)\n",
    "    y_pred = knn_classifier(x_test,x_train,y_train,2,2)\n",
    "    print (y_pred)\n",
    "    # 2 for positive 4 for negative\n",
    "    #accuracy sensitivity and specificy\n",
    "    accruacy=0\n",
    "    for val1,val2 in zip(y_pred,y_test):\n",
    "        if val1 ==val2:\n",
    "            accruacy+=1\n",
    "    print (\"accuray is %d / %d\",accruacy,len(y_test))\n",
    "if __name__ == \"__main__\":\n",
    "    main()"
   ]
  },
  {
   "cell_type": "code",
   "execution_count": 332,
   "metadata": {},
   "outputs": [
    {
     "name": "stdout",
     "output_type": "stream",
     "text": [
      "[(100, 10), (150, 15), (200, 20)]\n"
     ]
    }
   ],
   "source": [
    "testing = {}\n",
    "testing[100] = 10\n",
    "testing[200] =20\n",
    "testing[150] =15\n",
    "out = sorted(testing.items())\n",
    "print (out)"
   ]
  },
  {
   "cell_type": "code",
   "execution_count": null,
   "metadata": {},
   "outputs": [],
   "source": []
  }
 ],
 "metadata": {
  "kernelspec": {
   "display_name": "Python 3",
   "language": "python",
   "name": "python3"
  },
  "language_info": {
   "codemirror_mode": {
    "name": "ipython",
    "version": 3
   },
   "file_extension": ".py",
   "mimetype": "text/x-python",
   "name": "python",
   "nbconvert_exporter": "python",
   "pygments_lexer": "ipython3",
   "version": "3.5.2"
  }
 },
 "nbformat": 4,
 "nbformat_minor": 2
}
